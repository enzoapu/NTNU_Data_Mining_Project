{
 "cells": [
  {
   "cell_type": "code",
   "execution_count": 628,
   "metadata": {},
   "outputs": [],
   "source": [
    "import numpy as np\n",
    "import pandas as pd"
   ]
  },
  {
   "cell_type": "code",
   "execution_count": 629,
   "metadata": {},
   "outputs": [],
   "source": [
    "import time\n",
    "allStart = time.time()#計時開始"
   ]
  },
  {
   "cell_type": "code",
   "execution_count": 630,
   "metadata": {},
   "outputs": [],
   "source": [
    "train_df = pd.read_csv(\"adult_data.csv\")\n",
    "test_df = pd.read_csv(\"adult_test.csv\")"
   ]
  },
  {
   "cell_type": "code",
   "execution_count": 631,
   "metadata": {},
   "outputs": [
    {
     "data": {
      "text/html": [
       "<div>\n",
       "<style scoped>\n",
       "    .dataframe tbody tr th:only-of-type {\n",
       "        vertical-align: middle;\n",
       "    }\n",
       "\n",
       "    .dataframe tbody tr th {\n",
       "        vertical-align: top;\n",
       "    }\n",
       "\n",
       "    .dataframe thead th {\n",
       "        text-align: right;\n",
       "    }\n",
       "</style>\n",
       "<table border=\"1\" class=\"dataframe\">\n",
       "  <thead>\n",
       "    <tr style=\"text-align: right;\">\n",
       "      <th></th>\n",
       "      <th>age</th>\n",
       "      <th>workclass</th>\n",
       "      <th>fnlwgt</th>\n",
       "      <th>education</th>\n",
       "      <th>education_num</th>\n",
       "      <th>marital_status</th>\n",
       "      <th>occupation</th>\n",
       "      <th>relationship</th>\n",
       "      <th>race</th>\n",
       "      <th>sex</th>\n",
       "      <th>capital_gain</th>\n",
       "      <th>capital_loss</th>\n",
       "      <th>hours_per_week</th>\n",
       "      <th>native_country</th>\n",
       "      <th>income</th>\n",
       "    </tr>\n",
       "  </thead>\n",
       "  <tbody>\n",
       "    <tr>\n",
       "      <th>0</th>\n",
       "      <td>25</td>\n",
       "      <td>Private</td>\n",
       "      <td>226802</td>\n",
       "      <td>11th</td>\n",
       "      <td>7</td>\n",
       "      <td>Never-married</td>\n",
       "      <td>Machine-op-inspct</td>\n",
       "      <td>Own-child</td>\n",
       "      <td>Black</td>\n",
       "      <td>Male</td>\n",
       "      <td>0</td>\n",
       "      <td>0</td>\n",
       "      <td>40</td>\n",
       "      <td>United-States</td>\n",
       "      <td>&lt;=50K.</td>\n",
       "    </tr>\n",
       "    <tr>\n",
       "      <th>1</th>\n",
       "      <td>38</td>\n",
       "      <td>Private</td>\n",
       "      <td>89814</td>\n",
       "      <td>HS-grad</td>\n",
       "      <td>9</td>\n",
       "      <td>Married-civ-spouse</td>\n",
       "      <td>Farming-fishing</td>\n",
       "      <td>Husband</td>\n",
       "      <td>White</td>\n",
       "      <td>Male</td>\n",
       "      <td>0</td>\n",
       "      <td>0</td>\n",
       "      <td>50</td>\n",
       "      <td>United-States</td>\n",
       "      <td>&lt;=50K.</td>\n",
       "    </tr>\n",
       "    <tr>\n",
       "      <th>2</th>\n",
       "      <td>28</td>\n",
       "      <td>Local-gov</td>\n",
       "      <td>336951</td>\n",
       "      <td>Assoc-acdm</td>\n",
       "      <td>12</td>\n",
       "      <td>Married-civ-spouse</td>\n",
       "      <td>Protective-serv</td>\n",
       "      <td>Husband</td>\n",
       "      <td>White</td>\n",
       "      <td>Male</td>\n",
       "      <td>0</td>\n",
       "      <td>0</td>\n",
       "      <td>40</td>\n",
       "      <td>United-States</td>\n",
       "      <td>&gt;50K.</td>\n",
       "    </tr>\n",
       "    <tr>\n",
       "      <th>3</th>\n",
       "      <td>44</td>\n",
       "      <td>Private</td>\n",
       "      <td>160323</td>\n",
       "      <td>Some-college</td>\n",
       "      <td>10</td>\n",
       "      <td>Married-civ-spouse</td>\n",
       "      <td>Machine-op-inspct</td>\n",
       "      <td>Husband</td>\n",
       "      <td>Black</td>\n",
       "      <td>Male</td>\n",
       "      <td>7688</td>\n",
       "      <td>0</td>\n",
       "      <td>40</td>\n",
       "      <td>United-States</td>\n",
       "      <td>&gt;50K.</td>\n",
       "    </tr>\n",
       "    <tr>\n",
       "      <th>4</th>\n",
       "      <td>18</td>\n",
       "      <td>?</td>\n",
       "      <td>103497</td>\n",
       "      <td>Some-college</td>\n",
       "      <td>10</td>\n",
       "      <td>Never-married</td>\n",
       "      <td>?</td>\n",
       "      <td>Own-child</td>\n",
       "      <td>White</td>\n",
       "      <td>Female</td>\n",
       "      <td>0</td>\n",
       "      <td>0</td>\n",
       "      <td>30</td>\n",
       "      <td>United-States</td>\n",
       "      <td>&lt;=50K.</td>\n",
       "    </tr>\n",
       "  </tbody>\n",
       "</table>\n",
       "</div>"
      ],
      "text/plain": [
       "   age   workclass  fnlwgt      education  education_num       marital_status  \\\n",
       "0   25     Private  226802           11th              7        Never-married   \n",
       "1   38     Private   89814        HS-grad              9   Married-civ-spouse   \n",
       "2   28   Local-gov  336951     Assoc-acdm             12   Married-civ-spouse   \n",
       "3   44     Private  160323   Some-college             10   Married-civ-spouse   \n",
       "4   18           ?  103497   Some-college             10        Never-married   \n",
       "\n",
       "           occupation relationship    race      sex  capital_gain  \\\n",
       "0   Machine-op-inspct    Own-child   Black     Male             0   \n",
       "1     Farming-fishing      Husband   White     Male             0   \n",
       "2     Protective-serv      Husband   White     Male             0   \n",
       "3   Machine-op-inspct      Husband   Black     Male          7688   \n",
       "4                   ?    Own-child   White   Female             0   \n",
       "\n",
       "   capital_loss  hours_per_week  native_country   income  \n",
       "0             0              40   United-States   <=50K.  \n",
       "1             0              50   United-States   <=50K.  \n",
       "2             0              40   United-States    >50K.  \n",
       "3             0              40   United-States    >50K.  \n",
       "4             0              30   United-States   <=50K.  "
      ]
     },
     "execution_count": 631,
     "metadata": {},
     "output_type": "execute_result"
    }
   ],
   "source": [
    "test_df.head()"
   ]
  },
  {
   "cell_type": "code",
   "execution_count": 632,
   "metadata": {},
   "outputs": [],
   "source": [
    "#train_df.describe()"
   ]
  },
  {
   "cell_type": "code",
   "execution_count": 633,
   "metadata": {},
   "outputs": [],
   "source": [
    "#移除離散之missing value\n",
    "train_df = train_df.drop(train_df[(train_df.workclass == \" ?\") | (train_df.occupation == \" ?\") | (train_df.native_country ==\" ?\")].index)\n",
    "test_df = test_df.drop(test_df[(test_df.workclass == \" ?\") | (test_df.occupation == \" ?\") | (test_df.native_country ==\" ?\")].index)"
   ]
  },
  {
   "cell_type": "code",
   "execution_count": 634,
   "metadata": {},
   "outputs": [],
   "source": [
    "#隨機抽取n筆樣本\n",
    "train_df = train_df.sample( n=25000 ,replace=False)\n",
    "#test_df = test_df.sample( n=10000 ,replace=False)"
   ]
  },
  {
   "cell_type": "code",
   "execution_count": 635,
   "metadata": {},
   "outputs": [],
   "source": [
    "#直接使用pretrain好的訓練集\n",
    "train_df = pd.read_csv(\"tt25000.csv\")"
   ]
  },
  {
   "cell_type": "code",
   "execution_count": 636,
   "metadata": {},
   "outputs": [],
   "source": [
    "#將features取出，存為np array\n",
    "x_train = train_df[[\"age\",\"workclass\",\"fnlwgt\",\"education\",\"education_num\",\"marital_status\",\"occupation\",\"relationship\",\"race\",\"sex\",\"capital_gain\",\"capital_loss\",\"hours_per_week\",\"native_country\"]].values\n",
    "x_test = test_df[[\"age\",\"workclass\",\"fnlwgt\",\"education\",\"education_num\",\"marital_status\",\"occupation\",\"relationship\",\"race\",\"sex\",\"capital_gain\",\"capital_loss\",\"hours_per_week\",\"native_country\"]].values"
   ]
  },
  {
   "cell_type": "code",
   "execution_count": 637,
   "metadata": {},
   "outputs": [],
   "source": [
    "#嘗試移除miss value過多的\"capital_gain\"和\"capital_loss\"\n",
    "# x_train = train_df[[\"age\",\"workclass\",\"fnlwgt\",\"education\",\"education_num\",\"marital_status\",\"occupation\",\"relationship\",\"race\",\"sex\",\"hours_per_week\",\"native_country\"]].values\n",
    "# x_test = test_df[[\"age\",\"workclass\",\"fnlwgt\",\"education\",\"education_num\",\"marital_status\",\"occupation\",\"relationship\",\"race\",\"sex\",\"hours_per_week\",\"native_country\"]].values"
   ]
  },
  {
   "cell_type": "code",
   "execution_count": 638,
   "metadata": {},
   "outputs": [],
   "source": [
    "#將label轉存成1d np array\n",
    "y_train = train_df[[\"income\"]].values.ravel()\n",
    "y_test = test_df[[\"income\"]].values.ravel()"
   ]
  },
  {
   "cell_type": "code",
   "execution_count": 639,
   "metadata": {},
   "outputs": [
    {
     "name": "stdout",
     "output_type": "stream",
     "text": [
      "25000\n",
      "15060\n"
     ]
    }
   ],
   "source": [
    "print(len(y_train))\n",
    "print(len(y_test))"
   ]
  },
  {
   "cell_type": "code",
   "execution_count": 640,
   "metadata": {},
   "outputs": [],
   "source": [
    "#將miss value(數值型態)用該欄位平均值填補\n",
    "from sklearn.preprocessing import Imputer\n",
    "imputer = Imputer(missing_values=0,strategy=\"mean\",axis=0)\n",
    "imputer = imputer.fit(x_train[:,[0,2,4,10,11,12]])\n",
    "x_train[:,[0,2,4,10,11,12]] = imputer.transform(x_train[:,[0,2,4,10,11,12]])\n",
    "\n",
    "from sklearn.preprocessing import Imputer\n",
    "imputer = Imputer(missing_values=0,strategy=\"mean\",axis=0)\n",
    "imputer = imputer.fit(x_test[:,[0,2,4,10,11,12]])\n",
    "x_test[:,[0,2,4,10,11,12]] = imputer.transform(x_test[:,[0,2,4,10,11,12]])"
   ]
  },
  {
   "cell_type": "code",
   "execution_count": 641,
   "metadata": {},
   "outputs": [],
   "source": [
    "#將miss value(數值型態)用該欄位平均值填補\n",
    "#嘗試移除miss value過多的\"capital_gain\"和\"capital_loss\"\n",
    "# from sklearn.preprocessing import Imputer\n",
    "# imputer = Imputer(missing_values=0,strategy=\"mean\",axis=0)\n",
    "# imputer = imputer.fit(x_train[:,[0,2,4,10]])\n",
    "# x_train[:,[0,2,4,10]] = imputer.transform(x_train[:,[0,2,4,10]])\n",
    "\n",
    "# from sklearn.preprocessing import Imputer\n",
    "# imputer = Imputer(missing_values=0,strategy=\"mean\",axis=0)\n",
    "# imputer = imputer.fit(x_test[:,[0,2,4,10]])\n",
    "# x_test[:,[0,2,4,10]] = imputer.transform(x_test[:,[0,2,4,10]])"
   ]
  },
  {
   "cell_type": "code",
   "execution_count": 642,
   "metadata": {},
   "outputs": [],
   "source": [
    "from sklearn.preprocessing import LabelEncoder\n",
    "label_encoder = LabelEncoder()\n",
    "\n",
    "category = [1,3,5,6,7,8,9,13]\n",
    "for i in category:\n",
    "    x_train[:,i] = label_encoder.fit_transform(x_train[:,i])\n",
    "\n",
    "y_train = label_encoder.fit_transform(y_train)\n",
    "\n",
    "#----\n",
    "\n",
    "category = [1,3,5,6,7,8,9,13]\n",
    "for i in category:\n",
    "    x_test[:,i] = label_encoder.fit_transform(x_test[:,i])\n",
    "\n",
    "y_test = label_encoder.fit_transform(y_test)"
   ]
  },
  {
   "cell_type": "code",
   "execution_count": 643,
   "metadata": {},
   "outputs": [],
   "source": [
    "#嘗試移除miss value過多的\"capital_gain\"和\"capital_loss\"\n",
    "# from sklearn.preprocessing import LabelEncoder\n",
    "# label_encoder = LabelEncoder()\n",
    "\n",
    "# category = [1,3,5,6,7,8,9,11]\n",
    "# for i in category:\n",
    "#     x_train[:,i] = label_encoder.fit_transform(x_train[:,i])\n",
    "\n",
    "# y_train = label_encoder.fit_transform(y_train)\n",
    "\n",
    "# #----\n",
    "\n",
    "# category = [1,3,5,6,7,8,9,11]\n",
    "# for i in category:\n",
    "#     x_test[:,i] = label_encoder.fit_transform(x_test[:,i])\n",
    "\n",
    "# y_test = label_encoder.fit_transform(y_test)"
   ]
  },
  {
   "cell_type": "code",
   "execution_count": 644,
   "metadata": {},
   "outputs": [
    {
     "data": {
      "text/plain": [
       "(25000, 14)"
      ]
     },
     "execution_count": 644,
     "metadata": {},
     "output_type": "execute_result"
    }
   ],
   "source": [
    "x_train.shape"
   ]
  },
  {
   "cell_type": "code",
   "execution_count": 645,
   "metadata": {},
   "outputs": [],
   "source": [
    "from sklearn.preprocessing import OneHotEncoder\n",
    "onehot_encoder = OneHotEncoder(categorical_features = [1,3,5,6,7,8,9,13])\n",
    "x_train = onehot_encoder.fit_transform(x_train).toarray()\n",
    "x_test = onehot_encoder.fit_transform(x_test).toarray()"
   ]
  },
  {
   "cell_type": "code",
   "execution_count": 646,
   "metadata": {},
   "outputs": [],
   "source": [
    "#嘗試移除miss value過多的\"capital_gain\"和\"capital_loss\"\n",
    "# from sklearn.preprocessing import OneHotEncoder\n",
    "# onehot_encoder = OneHotEncoder(categorical_features = [1,3,5,6,7,8,9,11])\n",
    "# x_train = onehot_encoder.fit_transform(x_train).toarray()\n",
    "# x_test = onehot_encoder.fit_transform(x_test).toarray()"
   ]
  },
  {
   "cell_type": "code",
   "execution_count": 647,
   "metadata": {},
   "outputs": [
    {
     "data": {
      "text/plain": [
       "(25000, 103)"
      ]
     },
     "execution_count": 647,
     "metadata": {},
     "output_type": "execute_result"
    }
   ],
   "source": [
    "x_train.shape"
   ]
  },
  {
   "cell_type": "code",
   "execution_count": 648,
   "metadata": {},
   "outputs": [
    {
     "data": {
      "text/html": [
       "<div>\n",
       "<style scoped>\n",
       "    .dataframe tbody tr th:only-of-type {\n",
       "        vertical-align: middle;\n",
       "    }\n",
       "\n",
       "    .dataframe tbody tr th {\n",
       "        vertical-align: top;\n",
       "    }\n",
       "\n",
       "    .dataframe thead th {\n",
       "        text-align: right;\n",
       "    }\n",
       "</style>\n",
       "<table border=\"1\" class=\"dataframe\">\n",
       "  <thead>\n",
       "    <tr style=\"text-align: right;\">\n",
       "      <th></th>\n",
       "      <th>0</th>\n",
       "      <th>1</th>\n",
       "      <th>2</th>\n",
       "      <th>3</th>\n",
       "      <th>4</th>\n",
       "      <th>5</th>\n",
       "      <th>6</th>\n",
       "      <th>7</th>\n",
       "      <th>8</th>\n",
       "      <th>9</th>\n",
       "      <th>...</th>\n",
       "      <th>93</th>\n",
       "      <th>94</th>\n",
       "      <th>95</th>\n",
       "      <th>96</th>\n",
       "      <th>97</th>\n",
       "      <th>98</th>\n",
       "      <th>99</th>\n",
       "      <th>100</th>\n",
       "      <th>101</th>\n",
       "      <th>102</th>\n",
       "    </tr>\n",
       "  </thead>\n",
       "  <tbody>\n",
       "    <tr>\n",
       "      <th>0</th>\n",
       "      <td>0.0</td>\n",
       "      <td>0.0</td>\n",
       "      <td>1.0</td>\n",
       "      <td>0.0</td>\n",
       "      <td>0.0</td>\n",
       "      <td>0.0</td>\n",
       "      <td>0.0</td>\n",
       "      <td>0.0</td>\n",
       "      <td>0.0</td>\n",
       "      <td>0.0</td>\n",
       "      <td>...</td>\n",
       "      <td>0.0</td>\n",
       "      <td>1.0</td>\n",
       "      <td>0.0</td>\n",
       "      <td>0.0</td>\n",
       "      <td>41.0</td>\n",
       "      <td>220460.0</td>\n",
       "      <td>9.0</td>\n",
       "      <td>12977.0</td>\n",
       "      <td>1867.0</td>\n",
       "      <td>40.0</td>\n",
       "    </tr>\n",
       "    <tr>\n",
       "      <th>1</th>\n",
       "      <td>0.0</td>\n",
       "      <td>1.0</td>\n",
       "      <td>0.0</td>\n",
       "      <td>0.0</td>\n",
       "      <td>0.0</td>\n",
       "      <td>0.0</td>\n",
       "      <td>0.0</td>\n",
       "      <td>0.0</td>\n",
       "      <td>0.0</td>\n",
       "      <td>0.0</td>\n",
       "      <td>...</td>\n",
       "      <td>0.0</td>\n",
       "      <td>1.0</td>\n",
       "      <td>0.0</td>\n",
       "      <td>0.0</td>\n",
       "      <td>34.0</td>\n",
       "      <td>226296.0</td>\n",
       "      <td>13.0</td>\n",
       "      <td>12977.0</td>\n",
       "      <td>1867.0</td>\n",
       "      <td>40.0</td>\n",
       "    </tr>\n",
       "    <tr>\n",
       "      <th>2</th>\n",
       "      <td>0.0</td>\n",
       "      <td>0.0</td>\n",
       "      <td>1.0</td>\n",
       "      <td>0.0</td>\n",
       "      <td>0.0</td>\n",
       "      <td>0.0</td>\n",
       "      <td>0.0</td>\n",
       "      <td>0.0</td>\n",
       "      <td>0.0</td>\n",
       "      <td>0.0</td>\n",
       "      <td>...</td>\n",
       "      <td>0.0</td>\n",
       "      <td>1.0</td>\n",
       "      <td>0.0</td>\n",
       "      <td>0.0</td>\n",
       "      <td>23.0</td>\n",
       "      <td>137994.0</td>\n",
       "      <td>10.0</td>\n",
       "      <td>12977.0</td>\n",
       "      <td>1867.0</td>\n",
       "      <td>40.0</td>\n",
       "    </tr>\n",
       "    <tr>\n",
       "      <th>3</th>\n",
       "      <td>1.0</td>\n",
       "      <td>0.0</td>\n",
       "      <td>0.0</td>\n",
       "      <td>0.0</td>\n",
       "      <td>0.0</td>\n",
       "      <td>0.0</td>\n",
       "      <td>0.0</td>\n",
       "      <td>0.0</td>\n",
       "      <td>1.0</td>\n",
       "      <td>0.0</td>\n",
       "      <td>...</td>\n",
       "      <td>0.0</td>\n",
       "      <td>1.0</td>\n",
       "      <td>0.0</td>\n",
       "      <td>0.0</td>\n",
       "      <td>58.0</td>\n",
       "      <td>72998.0</td>\n",
       "      <td>7.0</td>\n",
       "      <td>14084.0</td>\n",
       "      <td>1867.0</td>\n",
       "      <td>40.0</td>\n",
       "    </tr>\n",
       "    <tr>\n",
       "      <th>4</th>\n",
       "      <td>0.0</td>\n",
       "      <td>0.0</td>\n",
       "      <td>1.0</td>\n",
       "      <td>0.0</td>\n",
       "      <td>0.0</td>\n",
       "      <td>0.0</td>\n",
       "      <td>0.0</td>\n",
       "      <td>0.0</td>\n",
       "      <td>0.0</td>\n",
       "      <td>0.0</td>\n",
       "      <td>...</td>\n",
       "      <td>0.0</td>\n",
       "      <td>1.0</td>\n",
       "      <td>0.0</td>\n",
       "      <td>0.0</td>\n",
       "      <td>42.0</td>\n",
       "      <td>373469.0</td>\n",
       "      <td>9.0</td>\n",
       "      <td>12977.0</td>\n",
       "      <td>1867.0</td>\n",
       "      <td>40.0</td>\n",
       "    </tr>\n",
       "  </tbody>\n",
       "</table>\n",
       "<p>5 rows × 103 columns</p>\n",
       "</div>"
      ],
      "text/plain": [
       "   0    1    2    3    4    5    6    7    8    9    ...   93   94   95   96   \\\n",
       "0  0.0  0.0  1.0  0.0  0.0  0.0  0.0  0.0  0.0  0.0  ...   0.0  1.0  0.0  0.0   \n",
       "1  0.0  1.0  0.0  0.0  0.0  0.0  0.0  0.0  0.0  0.0  ...   0.0  1.0  0.0  0.0   \n",
       "2  0.0  0.0  1.0  0.0  0.0  0.0  0.0  0.0  0.0  0.0  ...   0.0  1.0  0.0  0.0   \n",
       "3  1.0  0.0  0.0  0.0  0.0  0.0  0.0  0.0  1.0  0.0  ...   0.0  1.0  0.0  0.0   \n",
       "4  0.0  0.0  1.0  0.0  0.0  0.0  0.0  0.0  0.0  0.0  ...   0.0  1.0  0.0  0.0   \n",
       "\n",
       "    97        98    99       100     101   102  \n",
       "0  41.0  220460.0   9.0  12977.0  1867.0  40.0  \n",
       "1  34.0  226296.0  13.0  12977.0  1867.0  40.0  \n",
       "2  23.0  137994.0  10.0  12977.0  1867.0  40.0  \n",
       "3  58.0   72998.0   7.0  14084.0  1867.0  40.0  \n",
       "4  42.0  373469.0   9.0  12977.0  1867.0  40.0  \n",
       "\n",
       "[5 rows x 103 columns]"
      ]
     },
     "execution_count": 648,
     "metadata": {},
     "output_type": "execute_result"
    }
   ],
   "source": [
    "pd.DataFrame(x_train).head()"
   ]
  },
  {
   "cell_type": "code",
   "execution_count": 649,
   "metadata": {},
   "outputs": [],
   "source": [
    "# from sklearn.model_selection import train_test_split\n",
    "# x_train1,x_test1,y_train1,y_test1 = train_test_split(x_train,y_train,test_size=0.2,random_state=87)\n",
    "# x_train.shape,x_test.shape,y_train.shape,y_test.shape"
   ]
  },
  {
   "cell_type": "code",
   "execution_count": 650,
   "metadata": {},
   "outputs": [],
   "source": [
    "# Feature Scaling\n",
    "from sklearn.preprocessing import StandardScaler\n",
    "sc = StandardScaler()\n",
    "x_train = sc.fit_transform(x_train)\n",
    "\n",
    "sc = StandardScaler()\n",
    "x_test = sc.fit_transform(x_test)"
   ]
  },
  {
   "cell_type": "code",
   "execution_count": 651,
   "metadata": {},
   "outputs": [],
   "source": [
    "allEnd = time.time()#計時結束"
   ]
  },
  {
   "cell_type": "code",
   "execution_count": 652,
   "metadata": {},
   "outputs": [
    {
     "name": "stdout",
     "output_type": "stream",
     "text": [
      "time: 16.299838304519653\n"
     ]
    }
   ],
   "source": [
    "print(\"time:\",allEnd - allStart)#原型長這樣"
   ]
  },
  {
   "cell_type": "code",
   "execution_count": 653,
   "metadata": {
    "scrolled": true
   },
   "outputs": [
    {
     "data": {
      "text/html": [
       "<div>\n",
       "<style scoped>\n",
       "    .dataframe tbody tr th:only-of-type {\n",
       "        vertical-align: middle;\n",
       "    }\n",
       "\n",
       "    .dataframe tbody tr th {\n",
       "        vertical-align: top;\n",
       "    }\n",
       "\n",
       "    .dataframe thead th {\n",
       "        text-align: right;\n",
       "    }\n",
       "</style>\n",
       "<table border=\"1\" class=\"dataframe\">\n",
       "  <thead>\n",
       "    <tr style=\"text-align: right;\">\n",
       "      <th></th>\n",
       "      <th>0</th>\n",
       "      <th>1</th>\n",
       "      <th>2</th>\n",
       "      <th>3</th>\n",
       "      <th>4</th>\n",
       "      <th>5</th>\n",
       "      <th>6</th>\n",
       "      <th>7</th>\n",
       "      <th>8</th>\n",
       "      <th>9</th>\n",
       "      <th>...</th>\n",
       "      <th>93</th>\n",
       "      <th>94</th>\n",
       "      <th>95</th>\n",
       "      <th>96</th>\n",
       "      <th>97</th>\n",
       "      <th>98</th>\n",
       "      <th>99</th>\n",
       "      <th>100</th>\n",
       "      <th>101</th>\n",
       "      <th>102</th>\n",
       "    </tr>\n",
       "  </thead>\n",
       "  <tbody>\n",
       "    <tr>\n",
       "      <th>0</th>\n",
       "      <td>-0.178098</td>\n",
       "      <td>-0.271374</td>\n",
       "      <td>0.605378</td>\n",
       "      <td>-0.198698</td>\n",
       "      <td>-0.306982</td>\n",
       "      <td>-0.215272</td>\n",
       "      <td>-0.021564</td>\n",
       "      <td>-0.165817</td>\n",
       "      <td>5.037339</td>\n",
       "      <td>-0.116013</td>\n",
       "      <td>...</td>\n",
       "      <td>-0.023054</td>\n",
       "      <td>0.303734</td>\n",
       "      <td>-0.035542</td>\n",
       "      <td>-0.021564</td>\n",
       "      <td>-1.029005</td>\n",
       "      <td>0.352098</td>\n",
       "      <td>-1.216563</td>\n",
       "      <td>4.975693e-13</td>\n",
       "      <td>-7.226466e-12</td>\n",
       "      <td>-0.078889</td>\n",
       "    </tr>\n",
       "    <tr>\n",
       "      <th>1</th>\n",
       "      <td>-0.178098</td>\n",
       "      <td>-0.271374</td>\n",
       "      <td>0.605378</td>\n",
       "      <td>-0.198698</td>\n",
       "      <td>-0.306982</td>\n",
       "      <td>-0.215272</td>\n",
       "      <td>-0.021564</td>\n",
       "      <td>-0.165817</td>\n",
       "      <td>-0.198518</td>\n",
       "      <td>-0.116013</td>\n",
       "      <td>...</td>\n",
       "      <td>-0.023054</td>\n",
       "      <td>0.303734</td>\n",
       "      <td>-0.035542</td>\n",
       "      <td>-0.021564</td>\n",
       "      <td>-0.057423</td>\n",
       "      <td>-0.944995</td>\n",
       "      <td>-0.434898</td>\n",
       "      <td>4.975693e-13</td>\n",
       "      <td>-7.226466e-12</td>\n",
       "      <td>0.750131</td>\n",
       "    </tr>\n",
       "    <tr>\n",
       "      <th>2</th>\n",
       "      <td>-0.178098</td>\n",
       "      <td>3.684955</td>\n",
       "      <td>-1.651861</td>\n",
       "      <td>-0.198698</td>\n",
       "      <td>-0.306982</td>\n",
       "      <td>-0.215272</td>\n",
       "      <td>-0.021564</td>\n",
       "      <td>-0.165817</td>\n",
       "      <td>-0.198518</td>\n",
       "      <td>-0.116013</td>\n",
       "      <td>...</td>\n",
       "      <td>-0.023054</td>\n",
       "      <td>0.303734</td>\n",
       "      <td>-0.035542</td>\n",
       "      <td>-0.021564</td>\n",
       "      <td>-0.804794</td>\n",
       "      <td>1.395062</td>\n",
       "      <td>0.737599</td>\n",
       "      <td>4.975693e-13</td>\n",
       "      <td>-7.226466e-12</td>\n",
       "      <td>-0.078889</td>\n",
       "    </tr>\n",
       "    <tr>\n",
       "      <th>3</th>\n",
       "      <td>-0.178098</td>\n",
       "      <td>-0.271374</td>\n",
       "      <td>0.605378</td>\n",
       "      <td>-0.198698</td>\n",
       "      <td>-0.306982</td>\n",
       "      <td>-0.215272</td>\n",
       "      <td>-0.021564</td>\n",
       "      <td>-0.165817</td>\n",
       "      <td>-0.198518</td>\n",
       "      <td>-0.116013</td>\n",
       "      <td>...</td>\n",
       "      <td>-0.023054</td>\n",
       "      <td>0.303734</td>\n",
       "      <td>-0.035542</td>\n",
       "      <td>-0.021564</td>\n",
       "      <td>0.391000</td>\n",
       "      <td>-0.277369</td>\n",
       "      <td>-0.044066</td>\n",
       "      <td>-8.581099e-01</td>\n",
       "      <td>-7.226466e-12</td>\n",
       "      <td>-0.078889</td>\n",
       "    </tr>\n",
       "    <tr>\n",
       "      <th>4</th>\n",
       "      <td>-0.178098</td>\n",
       "      <td>-0.271374</td>\n",
       "      <td>0.605378</td>\n",
       "      <td>-0.198698</td>\n",
       "      <td>-0.306982</td>\n",
       "      <td>-0.215272</td>\n",
       "      <td>-0.021564</td>\n",
       "      <td>6.030732</td>\n",
       "      <td>-0.198518</td>\n",
       "      <td>-0.116013</td>\n",
       "      <td>...</td>\n",
       "      <td>-0.023054</td>\n",
       "      <td>0.303734</td>\n",
       "      <td>-0.035542</td>\n",
       "      <td>-0.021564</td>\n",
       "      <td>-0.356371</td>\n",
       "      <td>0.085944</td>\n",
       "      <td>-1.607395</td>\n",
       "      <td>4.975693e-13</td>\n",
       "      <td>-7.226466e-12</td>\n",
       "      <td>-0.907909</td>\n",
       "    </tr>\n",
       "  </tbody>\n",
       "</table>\n",
       "<p>5 rows × 103 columns</p>\n",
       "</div>"
      ],
      "text/plain": [
       "        0         1         2         3         4         5         6    \\\n",
       "0 -0.178098 -0.271374  0.605378 -0.198698 -0.306982 -0.215272 -0.021564   \n",
       "1 -0.178098 -0.271374  0.605378 -0.198698 -0.306982 -0.215272 -0.021564   \n",
       "2 -0.178098  3.684955 -1.651861 -0.198698 -0.306982 -0.215272 -0.021564   \n",
       "3 -0.178098 -0.271374  0.605378 -0.198698 -0.306982 -0.215272 -0.021564   \n",
       "4 -0.178098 -0.271374  0.605378 -0.198698 -0.306982 -0.215272 -0.021564   \n",
       "\n",
       "        7         8         9      ...          93        94        95   \\\n",
       "0 -0.165817  5.037339 -0.116013    ...    -0.023054  0.303734 -0.035542   \n",
       "1 -0.165817 -0.198518 -0.116013    ...    -0.023054  0.303734 -0.035542   \n",
       "2 -0.165817 -0.198518 -0.116013    ...    -0.023054  0.303734 -0.035542   \n",
       "3 -0.165817 -0.198518 -0.116013    ...    -0.023054  0.303734 -0.035542   \n",
       "4  6.030732 -0.198518 -0.116013    ...    -0.023054  0.303734 -0.035542   \n",
       "\n",
       "        96        97        98        99            100           101  \\\n",
       "0 -0.021564 -1.029005  0.352098 -1.216563  4.975693e-13 -7.226466e-12   \n",
       "1 -0.021564 -0.057423 -0.944995 -0.434898  4.975693e-13 -7.226466e-12   \n",
       "2 -0.021564 -0.804794  1.395062  0.737599  4.975693e-13 -7.226466e-12   \n",
       "3 -0.021564  0.391000 -0.277369 -0.044066 -8.581099e-01 -7.226466e-12   \n",
       "4 -0.021564 -0.356371  0.085944 -1.607395  4.975693e-13 -7.226466e-12   \n",
       "\n",
       "        102  \n",
       "0 -0.078889  \n",
       "1  0.750131  \n",
       "2 -0.078889  \n",
       "3 -0.078889  \n",
       "4 -0.907909  \n",
       "\n",
       "[5 rows x 103 columns]"
      ]
     },
     "execution_count": 653,
     "metadata": {},
     "output_type": "execute_result"
    }
   ],
   "source": [
    "pd.DataFrame(x_test).head()"
   ]
  },
  {
   "cell_type": "code",
   "execution_count": 654,
   "metadata": {},
   "outputs": [
    {
     "name": "stdout",
     "output_type": "stream",
     "text": [
      "{'class_weight': None, 'criterion': 'entropy', 'max_depth': 10, 'max_features': None, 'max_leaf_nodes': 150, 'min_impurity_decrease': 0.0, 'min_impurity_split': None, 'min_samples_leaf': 1, 'min_samples_split': 2, 'min_weight_fraction_leaf': 0.0, 'presort': False, 'random_state': None, 'splitter': 'best'}\n"
     ]
    }
   ],
   "source": [
    "import time\n",
    "tStart = time.time()#計時開始\n",
    "\n",
    "from sklearn.tree import DecisionTreeClassifier\n",
    "model = DecisionTreeClassifier(criterion = 'entropy', max_depth = 10, max_leaf_nodes = 150)#, max_depth = 10, max_leaf_nodes = 150\n",
    "model.fit(x_train, y_train)\n",
    "print(model.get_params())\n",
    "\n",
    "tEnd = time.time()#計時結束"
   ]
  },
  {
   "cell_type": "code",
   "execution_count": 577,
   "metadata": {},
   "outputs": [],
   "source": [
    "# import time\n",
    "# tStart = time.time()#計時開始\n",
    "\n",
    "# from sklearn.ensemble import RandomForestClassifier\n",
    "# model = RandomForestClassifier(n_estimators=30,criterion='entropy' ,max_depth = 30, max_leaf_nodes = 150)\n",
    "# model.fit(x_train,y_train)\n",
    "# print(model.get_params())\n",
    "\n",
    "# tEnd = time.time()#計時結束"
   ]
  },
  {
   "cell_type": "code",
   "execution_count": 669,
   "metadata": {},
   "outputs": [],
   "source": [
    "import time\n",
    "tStart = time.time()#計時開始\n",
    "\n",
    "from sklearn.neural_network import MLPClassifier\n",
    "model = MLPClassifier(solver='adam',hidden_layer_sizes=(8, 8),activation='relu', learning_rate_init=0.1) #‘lbfgs’, ‘sgd’, ‘adam’   'identity', 'logistic', 'tanh', 'relu'\n",
    "model.fit(x_train,y_train)\n",
    "\n",
    "tEnd = time.time()#計時結束"
   ]
  },
  {
   "cell_type": "code",
   "execution_count": 670,
   "metadata": {},
   "outputs": [],
   "source": [
    "# Predicting the Test set results\n",
    "y_pred = model.predict(x_test)"
   ]
  },
  {
   "cell_type": "code",
   "execution_count": 671,
   "metadata": {},
   "outputs": [
    {
     "data": {
      "text/plain": [
       "array([[10425,   935],\n",
       "       [ 1636,  2064]], dtype=int64)"
      ]
     },
     "execution_count": 671,
     "metadata": {},
     "output_type": "execute_result"
    }
   ],
   "source": [
    "from sklearn.metrics import confusion_matrix\n",
    "cm = confusion_matrix(y_test,y_pred)\n",
    "cm"
   ]
  },
  {
   "cell_type": "code",
   "execution_count": 672,
   "metadata": {},
   "outputs": [],
   "source": [
    "# from sklearn.model_selection import cross_val_score\n",
    "# scores = cross_val_score(model, x_train,y_train, cv=5)\n",
    "# scores"
   ]
  },
  {
   "cell_type": "code",
   "execution_count": 673,
   "metadata": {},
   "outputs": [
    {
     "name": "stdout",
     "output_type": "stream",
     "text": [
      "accuracy: 0.8292828685258964\n",
      "precision: 0.6882294098032677\n",
      "recall: 0.5578378378378378\n",
      "f1: 0.6162113748320645\n",
      "time: 3.441196918487549\n"
     ]
    }
   ],
   "source": [
    "from sklearn.metrics import f1_score,precision_score,recall_score,accuracy_score\n",
    "accuracy = accuracy_score(y_test, y_pred)\n",
    "error_rete = 1-accuracy\n",
    "precision = precision_score(y_test, y_pred)\n",
    "recall = recall_score(y_test, y_pred)\n",
    "f1 = f1_score(y_test, y_pred)\n",
    "\n",
    "print(\"accuracy:\",accuracy)\n",
    "#print(error_rete)%\n",
    "print(\"precision:\",precision)\n",
    "print(\"recall:\",recall)\n",
    "print(\"f1:\",f1)\n",
    "print(\"time:\",tEnd - tStart)#原型長這樣"
   ]
  },
  {
   "cell_type": "code",
   "execution_count": 506,
   "metadata": {},
   "outputs": [],
   "source": [
    "model = MLPClassifier(solver='adam',hidden_layer_sizes=(4, 4, 4))\n",
    "accuracy: 0.8302124833997344\n",
    "precision: 0.6802270577105014\n",
    "recall: 0.582972972972973\n",
    "f1: 0.6278562072478534\n",
    "time: 9.722556114196777"
   ]
  },
  {
   "cell_type": "code",
   "execution_count": null,
   "metadata": {},
   "outputs": [],
   "source": [
    "model = MLPClassifier(solver='adam',hidden_layer_sizes=(8, 8, 8))\n",
    "accuracy: 0.8351261620185922\n",
    "precision: 0.6826778745121586\n",
    "recall: 0.6145945945945946\n",
    "f1: 0.6468496657658939\n",
    "time: 16.974971055984497"
   ]
  },
  {
   "cell_type": "code",
   "execution_count": null,
   "metadata": {},
   "outputs": [],
   "source": [
    "model = MLPClassifier(solver='adam',hidden_layer_sizes=(16, 16, 16))\n",
    "accuracy: 0.8324037184594953\n",
    "precision: 0.6803680981595092\n",
    "recall: 0.5994594594594594\n",
    "f1: 0.6373563218390804\n",
    "time: 23.363336324691772"
   ]
  },
  {
   "cell_type": "code",
   "execution_count": 36,
   "metadata": {},
   "outputs": [
    {
     "ename": "NameError",
     "evalue": "name 'MLPClassifier' is not defined",
     "output_type": "error",
     "traceback": [
      "\u001b[1;31m---------------------------------------------------------------------------\u001b[0m",
      "\u001b[1;31mNameError\u001b[0m                                 Traceback (most recent call last)",
      "\u001b[1;32m<ipython-input-36-4497b8c95f05>\u001b[0m in \u001b[0;36m<module>\u001b[1;34m()\u001b[0m\n\u001b[1;32m----> 1\u001b[1;33m \u001b[0mmodel\u001b[0m \u001b[1;33m=\u001b[0m \u001b[0mMLPClassifier\u001b[0m\u001b[1;33m(\u001b[0m\u001b[0msolver\u001b[0m\u001b[1;33m=\u001b[0m\u001b[1;34m'adam'\u001b[0m\u001b[1;33m,\u001b[0m\u001b[0mhidden_layer_sizes\u001b[0m\u001b[1;33m=\u001b[0m\u001b[1;33m(\u001b[0m\u001b[1;36m8\u001b[0m\u001b[1;33m,\u001b[0m \u001b[1;36m8\u001b[0m\u001b[1;33m)\u001b[0m\u001b[1;33m)\u001b[0m\u001b[1;33m\u001b[0m\u001b[0m\n\u001b[0m\u001b[0;32m      2\u001b[0m \u001b[0maccuracy\u001b[0m\u001b[1;33m:\u001b[0m \u001b[1;36m0.8327531907840212\u001b[0m\u001b[1;33m\u001b[0m\u001b[0m\n\u001b[0;32m      3\u001b[0m \u001b[0mprecision\u001b[0m\u001b[1;33m:\u001b[0m \u001b[1;36m0.6781609195402298\u001b[0m\u001b[1;33m\u001b[0m\u001b[0m\n\u001b[0;32m      4\u001b[0m \u001b[0mrecall\u001b[0m\u001b[1;33m:\u001b[0m \u001b[1;36m0.6004070556309362\u001b[0m\u001b[1;33m\u001b[0m\u001b[0m\n\u001b[0;32m      5\u001b[0m \u001b[0mf1\u001b[0m\u001b[1;33m:\u001b[0m \u001b[1;36m0.6369197553076646\u001b[0m\u001b[1;33m\u001b[0m\u001b[0m\n",
      "\u001b[1;31mNameError\u001b[0m: name 'MLPClassifier' is not defined"
     ]
    }
   ],
   "source": [
    "model = MLPClassifier(solver='adam',hidden_layer_sizes=(8, 8))\n",
    "accuracy: 0.8327531907840212\n",
    "precision: 0.6781609195402298\n",
    "recall: 0.6004070556309362\n",
    "f1: 0.6369197553076646\n",
    "time: 10.002572059631348"
   ]
  },
  {
   "cell_type": "code",
   "execution_count": null,
   "metadata": {},
   "outputs": [],
   "source": [
    "model = MLPClassifier(solver='adam',hidden_layer_sizes=(16, 8))\n",
    "accuracy: 0.8289408254599702\n",
    "precision: 0.6644345238095238\n",
    "recall: 0.6058344640434192\n",
    "f1: 0.6337828246983676\n",
    "time: 20.14415192604065"
   ]
  },
  {
   "cell_type": "code",
   "execution_count": null,
   "metadata": {},
   "outputs": [],
   "source": [
    "model = MLPClassifier(solver='adam',hidden_layer_sizes=(8, 16))\n",
    "accuracy: 0.8375600861926074\n",
    "precision: 0.6832344213649851\n",
    "recall: 0.6248303934871099\n",
    "f1: 0.6527285613040397\n",
    "time: 13.553775310516357"
   ]
  },
  {
   "cell_type": "code",
   "execution_count": null,
   "metadata": {},
   "outputs": [],
   "source": [
    "model = MLPClassifier(solver='lbfgs',hidden_layer_sizes=(8, 8))\n",
    "accuracy: 0.8284435604177026\n",
    "precision: 0.6687163720215219\n",
    "recall: 0.5902306648575305\n",
    "f1: 0.6270270270270271\n",
    "time: 6.247357368469238"
   ]
  },
  {
   "cell_type": "code",
   "execution_count": null,
   "metadata": {},
   "outputs": [],
   "source": [
    "model = MLPClassifier(solver='sgd',hidden_layer_sizes=(8, 8))\n",
    "accuracy: 0.8276147853472567\n",
    "precision: 0.6700626959247649\n",
    "recall: 0.5800542740841248\n",
    "f1: 0.6218181818181818\n",
    "time: 15.37887978553772"
   ]
  },
  {
   "cell_type": "code",
   "execution_count": null,
   "metadata": {},
   "outputs": [],
   "source": [
    "model = MLPClassifier(solver='adam',hidden_layer_sizes=(8, 4))\n",
    "accuracy: 0.8334162108403779\n",
    "precision: 0.6808018504240555\n",
    "recall: 0.5990502035278155\n",
    "f1: 0.637315048718874\n",
    "time: 13.260758399963379"
   ]
  },
  {
   "cell_type": "code",
   "execution_count": null,
   "metadata": {},
   "outputs": [],
   "source": [
    "model = MLPClassifier(solver='adam',hidden_layer_sizes=(4, 8))\n",
    "accuracy: 0.834410740924913\n",
    "precision: 0.676842889054356\n",
    "recall: 0.6166892808683854\n",
    "f1: 0.6453674121405751\n",
    "time: 7.740442514419556"
   ]
  }
 ],
 "metadata": {
  "kernelspec": {
   "display_name": "Python 3",
   "language": "python",
   "name": "python3"
  },
  "language_info": {
   "codemirror_mode": {
    "name": "ipython",
    "version": 3
   },
   "file_extension": ".py",
   "mimetype": "text/x-python",
   "name": "python",
   "nbconvert_exporter": "python",
   "pygments_lexer": "ipython3",
   "version": "3.6.4"
  }
 },
 "nbformat": 4,
 "nbformat_minor": 2
}
